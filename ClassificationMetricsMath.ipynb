{
  "nbformat": 4,
  "nbformat_minor": 0,
  "metadata": {
    "colab": {
      "provenance": [],
      "gpuType": "T4"
    },
    "kernelspec": {
      "name": "python3",
      "display_name": "Python 3"
    },
    "language_info": {
      "name": "python"
    },
    "accelerator": "GPU"
  },
  "cells": [
    {
      "cell_type": "code",
      "execution_count": null,
      "metadata": {
        "id": "HAdx6dm0dhtd"
      },
      "outputs": [],
      "source": [
        "from sklearn import metrics"
      ]
    },
    {
      "cell_type": "code",
      "source": [
        "y_actual =[\"c\", \"h\", \"f\",\"c\",\"h\",\"f\",\"c\",\"h\",\"h\"]\n",
        "y_pred=[\"c\",\"c\",\"f\",\"h\",\"h\",\"c\",\"c\",\"f\",\"f\"]"
      ],
      "metadata": {
        "id": "PmFaMzeNds5t"
      },
      "execution_count": null,
      "outputs": []
    },
    {
      "cell_type": "code",
      "source": [
        "cm = metrics.confusion_matrix(y_actual,y_pred, labels=[\"c\",\"h\",\"f\"])\n",
        "print(cm)"
      ],
      "metadata": {
        "colab": {
          "base_uri": "https://localhost:8080/"
        },
        "id": "H-8TcwLieyLJ",
        "outputId": "476014dd-6659-4bfc-f720-e41a66796009"
      },
      "execution_count": null,
      "outputs": [
        {
          "output_type": "stream",
          "name": "stdout",
          "text": [
            "[[2 1 0]\n",
            " [1 1 2]\n",
            " [1 0 1]]\n"
          ]
        }
      ]
    },
    {
      "cell_type": "markdown",
      "source": [
        "rows give actual class information- ist row contains total 3 cricket players, 2nd row contains total 4 actual hockey player. 3rd row contain total 2 actual football players"
      ],
      "metadata": {
        "id": "1AJP4E5Qf6jB"
      }
    },
    {
      "cell_type": "code",
      "source": [
        "cm = metrics.classification_report(y_actual,y_pred,labels=[\"c\",\"h\",\"f\"])\n",
        "print(cm)"
      ],
      "metadata": {
        "colab": {
          "base_uri": "https://localhost:8080/"
        },
        "id": "Bi0UA48jgiVJ",
        "outputId": "e03036ea-cea8-4f82-bbc5-66132a8358f5"
      },
      "execution_count": null,
      "outputs": [
        {
          "output_type": "stream",
          "name": "stdout",
          "text": [
            "              precision    recall  f1-score   support\n",
            "\n",
            "           c       0.50      0.67      0.57         3\n",
            "           h       0.50      0.25      0.33         4\n",
            "           f       0.33      0.50      0.40         2\n",
            "\n",
            "    accuracy                           0.44         9\n",
            "   macro avg       0.44      0.47      0.43         9\n",
            "weighted avg       0.46      0.44      0.43         9\n",
            "\n"
          ]
        }
      ]
    },
    {
      "cell_type": "code",
      "source": [],
      "metadata": {
        "id": "cKuNOcqfhC9-"
      },
      "execution_count": null,
      "outputs": []
    }
  ]
}