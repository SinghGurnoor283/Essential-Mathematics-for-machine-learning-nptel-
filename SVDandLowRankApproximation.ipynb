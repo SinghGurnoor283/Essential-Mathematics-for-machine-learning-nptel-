{
  "nbformat": 4,
  "nbformat_minor": 0,
  "metadata": {
    "colab": {
      "provenance": [],
      "gpuType": "T4"
    },
    "kernelspec": {
      "name": "python3",
      "display_name": "Python 3"
    },
    "language_info": {
      "name": "python"
    },
    "accelerator": "GPU"
  },
  "cells": [
    {
      "cell_type": "code",
      "execution_count": null,
      "metadata": {
        "id": "UB5W4Tajz0g4"
      },
      "outputs": [],
      "source": [
        "import numpy as np\n",
        "np.set_printoptions(precision = 4,suppress=True)"
      ]
    },
    {
      "cell_type": "code",
      "source": [],
      "metadata": {
        "id": "tWw-JtZf07Hr"
      },
      "execution_count": null,
      "outputs": []
    },
    {
      "cell_type": "code",
      "source": [
        "a= np.array([[1,2,3,4], [1,1,2,3], [0,1,1,0]])\n",
        "print(a)"
      ],
      "metadata": {
        "colab": {
          "base_uri": "https://localhost:8080/"
        },
        "id": "NdORFyeM0lTR",
        "outputId": "767a628a-4440-4811-8551-b3f4fcbef6f4"
      },
      "execution_count": null,
      "outputs": [
        {
          "output_type": "stream",
          "name": "stdout",
          "text": [
            "[[1 2 3 4]\n",
            " [1 1 2 3]\n",
            " [0 1 1 0]]\n"
          ]
        }
      ]
    },
    {
      "cell_type": "code",
      "source": [
        "u, s, vh = np.linalg.svd(a, full_matrices=True)\n",
        "print(u)\n",
        "print(u.dot(u.T)) #to check whether u is orthogonal or not\n",
        "print(vh)"
      ],
      "metadata": {
        "colab": {
          "base_uri": "https://localhost:8080/"
        },
        "id": "nlmUkLAW1FQ9",
        "outputId": "a26b66c7-a0f7-4840-e802-d6d5d9074dc3"
      },
      "execution_count": null,
      "outputs": [
        {
          "output_type": "stream",
          "name": "stdout",
          "text": [
            "[[ 0.8109  0.0934 -0.5776]\n",
            " [ 0.57   -0.3493  0.7437]\n",
            " [ 0.1323  0.9324  0.3365]]\n",
            "[[ 1.  0.  0.]\n",
            " [ 0.  1. -0.]\n",
            " [ 0. -0.  1.]]\n",
            "[[ 0.2046  0.3443  0.5488  0.7338]\n",
            " [-0.2181  0.6561  0.438  -0.5746]\n",
            " [ 0.7598 -0.3431  0.4167 -0.3625]\n",
            " [-0.5774 -0.5774  0.5774  0.    ]]\n"
          ]
        }
      ]
    },
    {
      "cell_type": "code",
      "source": [
        "print(s) #it contains the singular values of matrix A"
      ],
      "metadata": {
        "colab": {
          "base_uri": "https://localhost:8080/"
        },
        "id": "FBCbFJqY19RN",
        "outputId": "289461fc-441e-42d3-bc5b-f89b8f02798b"
      },
      "execution_count": null,
      "outputs": [
        {
          "output_type": "stream",
          "name": "stdout",
          "text": [
            "[6.7509 1.1734 0.2186]\n"
          ]
        }
      ]
    },
    {
      "cell_type": "code",
      "source": [
        "sd= np.diag(s) #makes a 3X3 diagonal matrix with s(singular values) along the diagonal\n",
        "print(sd)"
      ],
      "metadata": {
        "colab": {
          "base_uri": "https://localhost:8080/"
        },
        "id": "iUJvFTpJ2qES",
        "outputId": "4786689b-2007-4df1-a785-84bc3591552a"
      },
      "execution_count": null,
      "outputs": [
        {
          "output_type": "stream",
          "name": "stdout",
          "text": [
            "[[6.7509 0.     0.    ]\n",
            " [0.     1.1734 0.    ]\n",
            " [0.     0.     0.2186]]\n"
          ]
        }
      ]
    },
    {
      "cell_type": "code",
      "source": [],
      "metadata": {
        "id": "h386xydg3VJs"
      },
      "execution_count": null,
      "outputs": []
    },
    {
      "cell_type": "markdown",
      "source": [
        "As starting matrix was 3X4(mxn) , so matrix sigma(sd) should also be mxn, but it should contain 3 singular values along the diagonal. so last column will be zero"
      ],
      "metadata": {
        "id": "aoXrp2vU3pB3"
      }
    },
    {
      "cell_type": "code",
      "source": [
        "b = np.zeros((3,4)) #making b matrix with initially putting all zeros"
      ],
      "metadata": {
        "id": "L3DCyD4M4COL"
      },
      "execution_count": null,
      "outputs": []
    },
    {
      "cell_type": "code",
      "source": [
        "b[:,:-1]=sd # it will replace ist 3 columns of b with sd\n",
        "sigma=b\n",
        "print(sigma)"
      ],
      "metadata": {
        "colab": {
          "base_uri": "https://localhost:8080/"
        },
        "id": "Hn6WkPDK4OxK",
        "outputId": "66149145-bee4-4385-efb3-368ffc7be3f0"
      },
      "execution_count": null,
      "outputs": [
        {
          "output_type": "stream",
          "name": "stdout",
          "text": [
            "[[6.7509 0.     0.     0.    ]\n",
            " [0.     1.1734 0.     0.    ]\n",
            " [0.     0.     0.2186 0.    ]]\n"
          ]
        }
      ]
    },
    {
      "cell_type": "code",
      "source": [
        "print(np.dot(np.dot(u,sigma), vh)) #reconstructing matrix a"
      ],
      "metadata": {
        "colab": {
          "base_uri": "https://localhost:8080/"
        },
        "id": "0jaHmRoD4b6u",
        "outputId": "392fbbde-654a-4a3b-d74f-0df31f0e344e"
      },
      "execution_count": null,
      "outputs": [
        {
          "output_type": "stream",
          "name": "stdout",
          "text": [
            "[[1. 2. 3. 4.]\n",
            " [1. 1. 2. 3.]\n",
            " [0. 1. 1. 0.]]\n"
          ]
        }
      ]
    },
    {
      "cell_type": "code",
      "source": [],
      "metadata": {
        "id": "pQdwpS3V_KMi"
      },
      "execution_count": null,
      "outputs": []
    },
    {
      "cell_type": "markdown",
      "source": [
        "For rank 2 approximation of A, we have to make 3rd singular value as zero. 2 rank approximation ------"
      ],
      "metadata": {
        "id": "asAtuoMJ_cus"
      }
    },
    {
      "cell_type": "code",
      "source": [
        "s = [6.7509, 1.1734, 0]"
      ],
      "metadata": {
        "id": "JztAN3Jc_oFl"
      },
      "execution_count": null,
      "outputs": []
    },
    {
      "cell_type": "code",
      "source": [],
      "metadata": {
        "id": "lkztBph6_1CJ"
      },
      "execution_count": null,
      "outputs": []
    },
    {
      "cell_type": "markdown",
      "source": [
        "Now repeat same steps\n"
      ],
      "metadata": {
        "id": "ZJnUkkNg_5zl"
      }
    },
    {
      "cell_type": "code",
      "source": [
        "sd= np.diag(s)\n",
        "print(sd)"
      ],
      "metadata": {
        "colab": {
          "base_uri": "https://localhost:8080/"
        },
        "id": "T-CxX9M3_8V8",
        "outputId": "0d27bf93-d0ba-4427-cec6-024fd8fe6a00"
      },
      "execution_count": null,
      "outputs": [
        {
          "output_type": "stream",
          "name": "stdout",
          "text": [
            "[[6.7509 0.     0.    ]\n",
            " [0.     1.1734 0.    ]\n",
            " [0.     0.     0.    ]]\n"
          ]
        }
      ]
    },
    {
      "cell_type": "code",
      "source": [
        "b = np.zeros((3,4))\n",
        "b[:,:-1]=sd\n",
        "sigma=b\n",
        "print(sigma) #contains only 2 non-zero singular values"
      ],
      "metadata": {
        "colab": {
          "base_uri": "https://localhost:8080/"
        },
        "id": "WuNemi7FABD-",
        "outputId": "53eeead7-2b95-4129-95b7-bb1c0fa87d2d"
      },
      "execution_count": null,
      "outputs": [
        {
          "output_type": "stream",
          "name": "stdout",
          "text": [
            "[[6.7509 0.     0.     0.    ]\n",
            " [0.     1.1734 0.     0.    ]\n",
            " [0.     0.     0.     0.    ]]\n"
          ]
        }
      ]
    },
    {
      "cell_type": "code",
      "source": [
        "print(np.dot(np.dot(u,sigma), vh)) # this resultant maatrix will have rank 2"
      ],
      "metadata": {
        "colab": {
          "base_uri": "https://localhost:8080/"
        },
        "id": "IDD57QxvANLI",
        "outputId": "938b3897-9795-4f9f-9475-a98bc16d31fa"
      },
      "execution_count": null,
      "outputs": [
        {
          "output_type": "stream",
          "name": "stdout",
          "text": [
            "[[ 1.0959  1.9567  3.0526  3.9542]\n",
            " [ 0.8764  1.0558  1.9322  3.0589]\n",
            " [-0.0559  1.0252  0.9693  0.0267]]\n"
          ]
        }
      ]
    },
    {
      "cell_type": "code",
      "source": [
        "print(a) #compare it with rank 2 approximation.... Nearly same values"
      ],
      "metadata": {
        "colab": {
          "base_uri": "https://localhost:8080/"
        },
        "id": "LZHf5WZcATGh",
        "outputId": "c745288f-9ec3-4e57-90a1-869a79a648b3"
      },
      "execution_count": null,
      "outputs": [
        {
          "output_type": "stream",
          "name": "stdout",
          "text": [
            "[[1 2 3 4]\n",
            " [1 1 2 3]\n",
            " [0 1 1 0]]\n"
          ]
        }
      ]
    },
    {
      "cell_type": "code",
      "source": [],
      "metadata": {
        "id": "LoifnwIhAwgs"
      },
      "execution_count": null,
      "outputs": []
    }
  ]
}